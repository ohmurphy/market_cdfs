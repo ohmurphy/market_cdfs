import numpy as np
import matplotlib.pyplot as plt
import pandas as pd
import seaborn as sns
from scipy.stats import norm
sns.set(style="whitegrid", palette="deep")





# Parameters for the normal distribution
mean = 100      # Mean of the distribution
std_dev = 20   # Standard deviation
graph_std_devs = 4 
num_market_participants = 1000
prices = np.linspace(mean - graph_std_devs * std_dev, mean + graph_std_devs * std_dev, mean)
pdf_dist = norm.pdf(prices, loc=mean, scale=std_dev) * num_market_participants
cdf_dist = (1 - norm.cdf(prices, loc=mean, scale=std_dev)) * num_market_participants # used for Demand. We use "1 - " because we count higher ones first
cdf_dist_supply = norm.cdf(prices, loc=mean, scale=std_dev) * num_market_participants








plt.plot(prices, pdf_dist, color='olive')
plt.title('Normal Dist of Willingness to Pay')
plt.ylabel('Number of People (Marginal Quantity Demanded)')
plt.xlabel('Price')
plt.grid(True)
plt.show()





plt.plot(pdf_dist, prices, color='olive')
plt.title('Marginal Willingness to Pay')
plt.xlabel('Number of People (Marginal Quantity Demanded)')
plt.ylabel('Price')
plt.grid(True)
plt.show()





plt.plot(cdf_dist, prices, color='green')
plt.title('Demand Curve')
plt.xlabel('Quantity Demanded')
plt.ylabel('Price')
plt.grid(True)
plt.show()





fig, (ax1, ax2) = plt.subplots(1, 2, figsize=(12, 6), sharey=True)
ax1.plot(pdf_dist, prices, linewidth=2, color='olive')
ax1.set_title('Marginal Willingness to Pay')
ax1.set_xlabel('Number of People (Marginal Quantity Demanded)')
ax1.set_ylabel('Price')
ax1.grid(True)
ax2.plot(cdf_dist, prices, linewidth=2, color='green')
ax2.set_title('Demand Curve')
ax2.set_xlabel('Quantity Demanded')
ax2.grid(True)
plt.tight_layout()
plt.show()





fig, (ax1, ax2) = plt.subplots(1, 2, figsize=(12, 6), sharey=True)
ax1.plot(pdf_dist, prices, linewidth=2, color='brown')
ax1.set_title('Marginal Cost')
ax1.set_xlabel('Amount of Output (Marginal Quantity Supplied)')
ax1.set_ylabel('Price/Cost')
ax1.grid(True)
ax2.plot(cdf_dist_supply, prices, linewidth=2, color='red')
ax2.set_title('Supply Curve')
ax2.set_xlabel('Quantity Supplied')
ax2.grid(True)
plt.tight_layout()
plt.show()





plt.plot(cdf_dist, prices, color='green')
plt.plot(cdf_dist_supply, prices, color='red')
plt.title('\'Normal\' Market')
plt.xlabel('Quantity')
plt.ylabel('Price')
plt.grid(True)
plt.show()


plt.plot(cdf_dist, prices, color='green')
plt.plot(cdf_dist_supply, prices, color='red')
plt.title('\'Normal\' Market')
plt.xlabel('Quantity')
plt.ylabel('Price')
plt.xlim(200, 800)
plt.grid(True)
plt.show()



